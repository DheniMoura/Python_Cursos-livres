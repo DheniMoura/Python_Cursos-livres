{
  "nbformat": 4,
  "nbformat_minor": 0,
  "metadata": {
    "colab": {
      "name": "Busca valor do BTC.ipynb",
      "provenance": [],
      "authorship_tag": "ABX9TyPvKQclt9gMIlDpr15sbp2G",
      "include_colab_link": true
    },
    "kernelspec": {
      "name": "python3",
      "display_name": "Python 3"
    },
    "language_info": {
      "name": "python"
    }
  },
  "cells": [
    {
      "cell_type": "markdown",
      "metadata": {
        "id": "view-in-github",
        "colab_type": "text"
      },
      "source": [
        "<a href=\"https://colab.research.google.com/github/DheniMoura/Python_Cursos-livres/blob/main/Busca_valor_do_BTC.ipynb\" target=\"_parent\"><img src=\"https://colab.research.google.com/assets/colab-badge.svg\" alt=\"Open In Colab\"/></a>"
      ]
    },
    {
      "cell_type": "markdown",
      "source": [
        "# Busca valor do Bitcoin"
      ],
      "metadata": {
        "id": "2gvQi7cEQJ46"
      }
    },
    {
      "cell_type": "code",
      "source": [
        "import requests"
      ],
      "metadata": {
        "id": "bDb6cj9Aysw4"
      },
      "execution_count": 1,
      "outputs": []
    },
    {
      "cell_type": "code",
      "source": [
        "url = 'https://economia.awesomeapi.com.br/last/BTC-BRL'"
      ],
      "metadata": {
        "id": "P2Jtm6FcyvlE"
      },
      "execution_count": 10,
      "outputs": []
    },
    {
      "cell_type": "code",
      "source": [
        "# Busca dos dados\n",
        "response = requests.get(url)\n"
      ],
      "metadata": {
        "id": "3ee8s1A7OUac"
      },
      "execution_count": 11,
      "outputs": []
    },
    {
      "cell_type": "code",
      "source": [
        "# Se a busca funcionou, mostra valor\n",
        "if response.status_code == 200:\n",
        "  btc_value = response.json()['BTCBRL']['low']\n",
        "  print(f'O valor do Bitcoin é R${btc_value}')\n",
        "else:\n",
        "  print('Erro ao buscar valor')"
      ],
      "metadata": {
        "colab": {
          "base_uri": "https://localhost:8080/"
        },
        "id": "mnXgM9-oOek2",
        "outputId": "b095aad2-4d5d-4653-dcb5-0a546207cfd1"
      },
      "execution_count": 12,
      "outputs": [
        {
          "output_type": "stream",
          "name": "stdout",
          "text": [
            "O valor do Bitcoin é R$108\n"
          ]
        }
      ]
    }
  ]
}