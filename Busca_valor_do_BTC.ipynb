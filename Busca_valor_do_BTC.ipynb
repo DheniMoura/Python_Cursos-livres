{
  "cells": [
    {
      "cell_type": "markdown",
      "metadata": {
        "colab_type": "text",
        "id": "view-in-github"
      },
      "source": [
        "<a href=\"https://colab.research.google.com/github/DheniMoura/Python_Cursos-livres/blob/main/Busca_valor_do_BTC.ipynb\" target=\"_parent\"><img src=\"https://colab.research.google.com/assets/colab-badge.svg\" alt=\"Open In Colab\"/></a>"
      ]
    },
    {
      "cell_type": "markdown",
      "metadata": {
        "id": "2gvQi7cEQJ46"
      },
      "source": [
        "# Busca valor do Bitcoin"
      ]
    },
    {
      "cell_type": "code",
      "execution_count": null,
      "metadata": {
        "id": "bDb6cj9Aysw4"
      },
      "outputs": [
        {
          "ename": "",
          "evalue": "",
          "output_type": "error",
          "traceback": [
            "\u001b[1;31mFailed to start the Kernel. \n",
            "Unable to start Kernel 'Python 3.8.5 64-bit' due to connection timeout. \n",
            "View Jupyter <a href='command:jupyter.viewOutput'>log</a> for further details."
          ]
        }
      ],
      "source": [
        "import requests"
      ]
    },
    {
      "cell_type": "code",
      "execution_count": null,
      "metadata": {
        "id": "P2Jtm6FcyvlE"
      },
      "outputs": [],
      "source": [
        "url = 'https://economia.awesomeapi.com.br/last/BTC-BRL'"
      ]
    },
    {
      "cell_type": "code",
      "execution_count": null,
      "metadata": {
        "id": "3ee8s1A7OUac"
      },
      "outputs": [],
      "source": [
        "# Busca dos dados\n",
        "response = requests.get(url)\n"
      ]
    },
    {
      "cell_type": "code",
      "execution_count": null,
      "metadata": {
        "colab": {
          "base_uri": "https://localhost:8080/"
        },
        "id": "mnXgM9-oOek2",
        "outputId": "b095aad2-4d5d-4653-dcb5-0a546207cfd1"
      },
      "outputs": [
        {
          "name": "stdout",
          "output_type": "stream",
          "text": [
            "O valor do Bitcoin é R$108\n"
          ]
        }
      ],
      "source": [
        "# Se a busca funcionou, mostra valor\n",
        "if response.status_code == 200:\n",
        "  btc_value = response.json()['BTCBRL']['low']\n",
        "  print(f'O valor do Bitcoin é R${btc_value}')\n",
        "else:\n",
        "  print('Erro ao buscar valor')"
      ]
    }
  ],
  "metadata": {
    "colab": {
      "authorship_tag": "ABX9TyPvKQclt9gMIlDpr15sbp2G",
      "include_colab_link": true,
      "name": "Busca valor do BTC.ipynb",
      "provenance": []
    },
    "kernelspec": {
      "display_name": "Python 3.8.5 64-bit",
      "language": "python",
      "name": "python3"
    },
    "language_info": {
      "codemirror_mode": {
        "name": "ipython",
        "version": 3
      },
      "file_extension": ".py",
      "mimetype": "text/x-python",
      "name": "python",
      "nbconvert_exporter": "python",
      "pygments_lexer": "ipython3",
      "version": "3.8.5"
    },
    "vscode": {
      "interpreter": {
        "hash": "e0a453cd9cbfa908d63c65386fe4a1dc45c9b5af653068d05c6b1ef500123be0"
      }
    }
  },
  "nbformat": 4,
  "nbformat_minor": 0
}
